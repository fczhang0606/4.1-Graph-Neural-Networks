{
 "cells": [
  {
   "cell_type": "code",
   "execution_count": 1,
   "id": "e66f766c-26d3-42a8-a8b0-f8d64c32e330",
   "metadata": {},
   "outputs": [],
   "source": [
    "import torch\n",
    "import torch.nn as nn\n",
    "import random"
   ]
  },
  {
   "cell_type": "code",
   "execution_count": 2,
   "id": "c73a4f36-92be-4ef5-9bb6-ac433b8c2dcd",
   "metadata": {},
   "outputs": [],
   "source": [
    "adj_list = [\n",
    "[1,2,3], \n",
    "[0,2,3], \n",
    "[0, 1, 3], \n",
    "[0, 1, 2], \n",
    "[5, 6], \n",
    "[4,6], \n",
    "[4, 5], \n",
    "[1, 3]]\n",
    "size_vertex = len(adj_list)"
   ]
  },
  {
   "cell_type": "code",
   "execution_count": 3,
   "id": "c98d8b22-7402-4d47-b63d-97bdc0fed5cb",
   "metadata": {},
   "outputs": [],
   "source": [
    "w=3  # 单边窗口长度，包括中心词\n",
    "d=2  # 中间维度\n",
    "y=200  # 每节点采样次数\n",
    "t=6  # 每节点采样长度\n",
    "lr=0.025\n",
    "v=[0, 1, 2, 3, 4, 5, 6, 7]"
   ]
  },
  {
   "cell_type": "code",
   "execution_count": 4,
   "id": "41b95fe9-8e6c-4fa3-8942-fc1f53a9a4de",
   "metadata": {},
   "outputs": [],
   "source": [
    "class Model(torch.nn.Module) :\n",
    "\n",
    "    def __init__(self) :\n",
    "        super(Model, self).__init__()\n",
    "        self.phi1 = nn.Parameter(torch.rand((size_vertex, d), requires_grad=True))  # 8to2\n",
    "        self.phi2 = nn.Parameter(torch.rand((d, size_vertex), requires_grad=True))  # 2to8 softmax\n",
    "\n",
    "    def forward(self, hot) :\n",
    "        hid = torch.matmul(hot, self.phi1)\n",
    "        out = torch.matmul(hid, self.phi2)\n",
    "        return out"
   ]
  },
  {
   "cell_type": "code",
   "execution_count": 5,
   "id": "b69fbd74-c82c-4a78-9051-7bc8984f377c",
   "metadata": {},
   "outputs": [],
   "source": [
    "def RandomWalk(node, t) :\n",
    "\n",
    "    walk = [node]\n",
    "\n",
    "    for i in range(t-1) :\n",
    "        node = adj_list[node][random.randint(0, len(adj_list[node])-1)]  # 等概率\n",
    "        walk.append(node)\n",
    "\n",
    "    return walk"
   ]
  },
  {
   "cell_type": "code",
   "execution_count": 6,
   "id": "36ee19dc-688c-4f69-a0a1-2f7d90adaf6f",
   "metadata": {},
   "outputs": [],
   "source": [
    "def skip_gram(wvi, w) :\n",
    "\n",
    "    for j in range(len(wvi)) :\n",
    "\n",
    "        for k in range( max(0, j-w), min(j+w, len(wvi)) ) :\n",
    "        # 双重循环，制作语料\n",
    "\n",
    "            # 中心词的one-hot\n",
    "            one_hot = torch.zeros(size_vertex)\n",
    "            one_hot[wvi[j]] = 1\n",
    "\n",
    "            out = model(one_hot)  # 预测共现词的概率分布\n",
    "            # print(out)\n",
    "\n",
    "            loss = torch.log(torch.sum(torch.exp(out))) - out[wvi[k]]  # 做了j*k次loss回传\n",
    "            loss.backward()  # 回传优化参数\n",
    "\n",
    "            for param in model.parameters() :\n",
    "                param.data.sub_(lr*param.grad)\n",
    "                param.grad.data.zero_()"
   ]
  },
  {
   "cell_type": "code",
   "execution_count": 7,
   "id": "18c952d1-fbc9-433c-8ea9-8922646d5466",
   "metadata": {},
   "outputs": [],
   "source": [
    "model = Model()\n",
    "for i in range(y) :\n",
    "    random.shuffle(v)  # 原位打乱列表\n",
    "    for vi in v :\n",
    "        wvi = RandomWalk(vi, t)\n",
    "        skip_gram(wvi, w)"
   ]
  },
  {
   "cell_type": "code",
   "execution_count": 8,
   "id": "48200246-fe65-4e47-8484-822b89f01cd4",
   "metadata": {},
   "outputs": [
    {
     "name": "stdout",
     "output_type": "stream",
     "text": [
      "Parameter containing:\n",
      "tensor([[ 1.2468,  0.0530],\n",
      "        [ 0.9337,  0.8903],\n",
      "        [ 1.3328,  0.3158],\n",
      "        [ 0.9518,  0.7068],\n",
      "        [-1.0665, -1.0001],\n",
      "        [-1.2288, -0.7669],\n",
      "        [-0.7969, -1.2464],\n",
      "        [-0.0708,  1.4122]], requires_grad=True)\n",
      "Parameter containing:\n",
      "tensor([[ 2.5237,  2.0535,  2.3813,  2.2814, -2.1476, -2.3450, -1.7781,  0.0599],\n",
      "        [ 1.1577,  1.9726,  1.3898,  1.8684, -1.3028, -1.2479, -1.4468,  1.9685]],\n",
      "       requires_grad=True)\n"
     ]
    }
   ],
   "source": [
    "print(model.phi1)\n",
    "print(model.phi2)"
   ]
  }
 ],
 "metadata": {
  "kernelspec": {
   "display_name": "GNN_DeepWalk",
   "language": "python",
   "name": "gnn_deepwalk"
  },
  "language_info": {
   "codemirror_mode": {
    "name": "ipython",
    "version": 3
   },
   "file_extension": ".py",
   "mimetype": "text/x-python",
   "name": "python",
   "nbconvert_exporter": "python",
   "pygments_lexer": "ipython3",
   "version": "3.8.18"
  }
 },
 "nbformat": 4,
 "nbformat_minor": 5
}
