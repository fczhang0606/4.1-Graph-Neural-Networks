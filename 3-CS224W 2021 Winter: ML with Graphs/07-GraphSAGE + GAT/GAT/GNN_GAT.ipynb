{
 "cells": [
  {
   "cell_type": "code",
   "execution_count": null,
   "id": "2295bb7b-cff7-49fe-92db-a35c158bfb1b",
   "metadata": {},
   "outputs": [],
   "source": [
    "################################################################################################################################\n",
    "# git clone git@github.com:Diego999/pyGAT.git\n",
    "################################################################################################################################\n",
    "# 环境搭建：\n",
    "# conda create -n GNN_GAT\n",
    "# conda activate GNN_GAT\n",
    "\n",
    "# conda install python=3.8\n",
    "\n",
    "# https://pytorch.org/get-started/previous-versions/\n",
    "# conda install pytorch==1.13.1 torchvision==0.14.1 torchaudio==0.13.1 pytorch-cuda=11.7 -c pytorch -c nvidia\n",
    "################################################################################################################################\n",
    "# conda install ipykernel\n",
    "# conda install platformdirs\n",
    "# pip3 install ipywidgets\n",
    "# pip3 install --upgrade jupyter_core jupyter_client\n",
    "\n",
    "# python -m ipykernel install --user --name GNN_GAT\n",
    "################################################################################################################################\n",
    "\n",
    "\n",
    "################################################################################################################################\n",
    "# pip install scipy\n",
    "\n",
    "# sudo apt install graphviz\n",
    "# pip install graphviz\n",
    "################################################################################################################################"
   ]
  }
 ],
 "metadata": {
  "kernelspec": {
   "display_name": "GNN_GAT",
   "language": "python",
   "name": "gnn_gat"
  },
  "language_info": {
   "codemirror_mode": {
    "name": "ipython",
    "version": 3
   },
   "file_extension": ".py",
   "mimetype": "text/x-python",
   "name": "python",
   "nbconvert_exporter": "python",
   "pygments_lexer": "ipython3",
   "version": "3.8.18"
  }
 },
 "nbformat": 4,
 "nbformat_minor": 5
}
