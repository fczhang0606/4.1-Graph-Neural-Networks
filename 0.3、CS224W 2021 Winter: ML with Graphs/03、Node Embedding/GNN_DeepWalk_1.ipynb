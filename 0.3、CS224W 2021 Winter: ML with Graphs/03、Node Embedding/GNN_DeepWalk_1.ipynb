{
 "cells": [
  {
   "cell_type": "code",
   "execution_count": 1,
   "id": "acd7b803-48a7-44ef-8778-1fb7aac07609",
   "metadata": {},
   "outputs": [],
   "source": [
    "# ! pip install karateclub"
   ]
  },
  {
   "cell_type": "code",
   "execution_count": 2,
   "id": "2efba77b-8c5b-4701-bc62-1a88d8b00580",
   "metadata": {},
   "outputs": [],
   "source": [
    "import karateclub\n",
    "from karateclub import DeepWalk\n",
    "import networkx as nx\n",
    "import sklearn\n",
    "from sklearn.cluster import KMeans"
   ]
  },
  {
   "cell_type": "code",
   "execution_count": 3,
   "id": "78a12328-c0cd-4af6-aba8-9cec10995ab8",
   "metadata": {},
   "outputs": [
    {
     "data": {
      "text/plain": [
       "{'club': 'Officer'}"
      ]
     },
     "execution_count": 3,
     "metadata": {},
     "output_type": "execute_result"
    }
   ],
   "source": [
    "G = nx.karate_club_graph()\n",
    "G.nodes[1]\n",
    "G.nodes[23]"
   ]
  },
  {
   "cell_type": "code",
   "execution_count": 4,
   "id": "4cca5c39-be19-4835-ac56-5868b29be8ba",
   "metadata": {},
   "outputs": [],
   "source": [
    "model = DeepWalk()\n",
    "model.fit(G)"
   ]
  },
  {
   "cell_type": "code",
   "execution_count": 5,
   "id": "84245ff1-2d98-46bf-8aff-a4585be075fc",
   "metadata": {},
   "outputs": [
    {
     "data": {
      "text/plain": [
       "(34, 128)"
      ]
     },
     "execution_count": 5,
     "metadata": {},
     "output_type": "execute_result"
    }
   ],
   "source": [
    "G_embedding = model.get_embedding()\n",
    "G_embedding.shape"
   ]
  },
  {
   "cell_type": "code",
   "execution_count": 6,
   "id": "df5f14d0-544d-4599-a015-f43ae2e92e67",
   "metadata": {},
   "outputs": [
    {
     "name": "stderr",
     "output_type": "stream",
     "text": [
      "/home/zhfc/anaconda3/envs/GNN_DeepWalk/lib/python3.8/site-packages/sklearn/cluster/_kmeans.py:1416: FutureWarning: The default value of `n_init` will change from 10 to 'auto' in 1.4. Set the value of `n_init` explicitly to suppress the warning\n",
      "  super()._check_params_vs_input(X, default_n_init=10)\n"
     ]
    },
    {
     "name": "stdout",
     "output_type": "stream",
     "text": [
      "[0 0 0 0 0 0 0 0 1 1 0 0 0 0 1 1 0 0 1 0 1 0 1 1 1 1 1 1 1 1 1 1 1 1]\n"
     ]
    }
   ],
   "source": [
    "num_coms = 2\n",
    "clusters = KMeans(n_clusters=num_coms).fit_predict(G_embedding)\n",
    "print(clusters)"
   ]
  }
 ],
 "metadata": {
  "kernelspec": {
   "display_name": "GNN_DeepWalk",
   "language": "python",
   "name": "gnn_deepwalk"
  },
  "language_info": {
   "codemirror_mode": {
    "name": "ipython",
    "version": 3
   },
   "file_extension": ".py",
   "mimetype": "text/x-python",
   "name": "python",
   "nbconvert_exporter": "python",
   "pygments_lexer": "ipython3",
   "version": "3.8.18"
  }
 },
 "nbformat": 4,
 "nbformat_minor": 5
}
