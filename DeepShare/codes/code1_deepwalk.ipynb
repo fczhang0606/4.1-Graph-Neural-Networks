{
 "cells": [
  {
   "attachments": {},
   "cell_type": "markdown",
   "metadata": {},
   "source": [
    "# Deep Walk in karateclub"
   ]
  },
  {
   "cell_type": "code",
   "execution_count": null,
   "metadata": {},
   "outputs": [],
   "source": [
    "import networkx as nx\n",
    "from karateclub import DeepWalk\n",
    "from sklearn.cluster import KMeans\n",
    "\n",
    "G = nx.karate_club_graph() "
   ]
  },
  {
   "cell_type": "code",
   "execution_count": null,
   "metadata": {},
   "outputs": [],
   "source": [
    "# see node class\n",
    "G.nodes[1], G.nodes[23]"
   ]
  },
  {
   "cell_type": "code",
   "execution_count": null,
   "metadata": {},
   "outputs": [],
   "source": [
    "model = DeepWalk()\n",
    "model.fit(G)\n",
    "G_embedding = model.get_embedding()"
   ]
  },
  {
   "cell_type": "code",
   "execution_count": null,
   "metadata": {},
   "outputs": [],
   "source": [
    "G_embedding.shape"
   ]
  },
  {
   "cell_type": "code",
   "execution_count": null,
   "metadata": {},
   "outputs": [],
   "source": [
    "num_coms = 2\n",
    "clusters = KMeans(n_clusters=num_coms).fit_predict(G_embedding)\n",
    "print(clusters)"
   ]
  },
  {
   "attachments": {},
   "cell_type": "markdown",
   "metadata": {},
   "source": [
    "# Deep Walk"
   ]
  },
  {
   "cell_type": "code",
   "execution_count": null,
   "metadata": {},
   "outputs": [],
   "source": [
    "import torch\n",
    "import torch.nn as nn\n",
    "import random"
   ]
  },
  {
   "cell_type": "code",
   "execution_count": null,
   "metadata": {},
   "outputs": [],
   "source": [
    "adj_list = [[1,2,3], [0,2,3], [0, 1, 3], [0, 1, 2], [5, 6], [4,6], [4, 5], [1, 3]]\n",
    "size_vertex = len(adj_list)  # number of vertices"
   ]
  },
  {
   "cell_type": "code",
   "execution_count": null,
   "metadata": {},
   "outputs": [],
   "source": [
    "w=3            # window size\n",
    "d=2            # embedding size\n",
    "y=200          # walks per vertex\n",
    "t=6            # walk length \n",
    "lr=0.025       # learning rate\n",
    "\n",
    "v=[0,1,2,3,4,5,6,7] # labels of available vertices"
   ]
  },
  {
   "cell_type": "code",
   "execution_count": null,
   "metadata": {},
   "outputs": [],
   "source": [
    "def RandomWalk(node,t):\n",
    "    walk = [node]        # Walk starts from this node\n",
    "    \n",
    "    for i in range(t-1):\n",
    "        node = adj_list[node][random.randint(0,len(adj_list[node])-1)]\n",
    "        walk.append(node)\n",
    "\n",
    "    return walk"
   ]
  },
  {
   "cell_type": "code",
   "execution_count": null,
   "metadata": {},
   "outputs": [],
   "source": [
    "class Model(torch.nn.Module):\n",
    "    def __init__(self):\n",
    "        super(Model, self).__init__()\n",
    "        self.phi  = nn.Parameter(torch.rand((size_vertex, d), requires_grad=True))    \n",
    "        self.phi2 = nn.Parameter(torch.rand((d, size_vertex), requires_grad=True))\n",
    "        \n",
    "        \n",
    "    def forward(self, one_hot):\n",
    "        hidden = torch.matmul(one_hot, self.phi)\n",
    "        out    = torch.matmul(hidden, self.phi2)\n",
    "        return out\n",
    "\n",
    "model = Model()\n",
    "\n",
    "def skip_gram(wvi,  w):\n",
    "    for j in range(len(wvi)):\n",
    "        for k in range(max(0,j-w) , min(j+w, len(wvi))):\n",
    "            \n",
    "            #generate one hot vector\n",
    "            one_hot          = torch.zeros(size_vertex)\n",
    "            one_hot[wvi[j]]  = 1\n",
    "            \n",
    "            out              = model(one_hot)\n",
    "            loss             = torch.log(torch.sum(torch.exp(out))) - out[wvi[k]]\n",
    "            loss.backward()\n",
    "            \n",
    "            for param in model.parameters():\n",
    "                param.data.sub_(lr*param.grad)\n",
    "                param.grad.data.zero_()\n",
    "for i in range(y):\n",
    "    random.shuffle(v)\n",
    "    for vi in v:\n",
    "        wvi=RandomWalk(vi,t)\n",
    "        skip_gram(wvi, w)"
   ]
  },
  {
   "cell_type": "code",
   "execution_count": null,
   "metadata": {},
   "outputs": [],
   "source": [
    "print(model.phi)"
   ]
  }
 ],
 "metadata": {
  "kernelspec": {
   "display_name": "pyg_st",
   "language": "python",
   "name": "python3"
  },
  "language_info": {
   "codemirror_mode": {
    "name": "ipython",
    "version": 3
   },
   "file_extension": ".py",
   "mimetype": "text/x-python",
   "name": "python",
   "nbconvert_exporter": "python",
   "pygments_lexer": "ipython3",
   "version": "3.10.9"
  },
  "orig_nbformat": 4,
  "vscode": {
   "interpreter": {
    "hash": "0411bf48136829c438b5857f234b9b8d0955fe4fc88961747596736e49fa939e"
   }
  }
 },
 "nbformat": 4,
 "nbformat_minor": 2
}
