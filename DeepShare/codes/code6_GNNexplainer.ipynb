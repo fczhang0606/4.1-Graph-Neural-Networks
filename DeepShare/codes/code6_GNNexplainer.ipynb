{
 "cells": [
  {
   "cell_type": "markdown",
   "metadata": {},
   "source": [
    "# __GNNExplainer Tutorial__\n",
    "\n",
    "Disclaimer: This tutorial assumes that you are familiar with Pytorch.\n",
    "\n",
    "In this tutorial, We will use Pytorch-Geometric(https://pytorch-geometric.readthedocs.io/en/latest/)[[1]], which is a GNN library built on top of Pytorch.\n",
    "\n",
    "This tutorial is based on the example provided by Pytorch-Geometric(https://github.com/rusty1s/pytorch_geometric/blob/master/examples/gnn_explainer.py).\n",
    "\n",
    "\n",
    "[[1]] Fey, Matthias and Lenssen, Jan E. \"Fast Graph Representation Learning with PyTorch Geometric.\" ICLR Workshop on Representation Learning on Graphs and Manifolds. 2019."
   ]
  },
  {
   "cell_type": "code",
   "execution_count": 1,
   "metadata": {
    "tags": []
   },
   "outputs": [
    {
     "name": "stderr",
     "output_type": "stream",
     "text": [
      "c:\\Users\\zhang\\miniconda3\\envs\\pyg_st\\lib\\site-packages\\tqdm\\auto.py:22: TqdmWarning: IProgress not found. Please update jupyter and ipywidgets. See https://ipywidgets.readthedocs.io/en/stable/user_install.html\n",
      "  from .autonotebook import tqdm as notebook_tqdm\n"
     ]
    }
   ],
   "source": [
    "from torch_geometric.data import Data, DataLoader\n",
    "from torch_geometric.datasets import TUDataset, Planetoid\n",
    "from torch_geometric.nn import GCNConv, Set2Set, GNNExplainer\n",
    "import torch_geometric.transforms as T\n",
    "import torch\n",
    "import torch.nn.functional as F\n",
    "import os\n",
    "from tqdm import tqdm, trange\n",
    "\n",
    "import matplotlib.pyplot as plt\n"
   ]
  },
  {
   "cell_type": "markdown",
   "metadata": {},
   "source": [
    "# 1. Training a GNN with Pytorch-Geometric"
   ]
  },
  {
   "cell_type": "markdown",
   "metadata": {},
   "source": [
    "## 1. Dataset\n",
    "\n",
    "Here, we load our dataset. We use Cora as in Yang et al.[[1]],  which is readily provided by Pytorch-Geometric(https://pytorch-geometric.readthedocs.io/en/latest/modules/datasets.html?highlight=cora#torch_geometric.datasets.Planetoid). This dataset is a node classification dataset: that is, given nodes and their features, the GNN must predict the correct label for the node. For each node, there is an input feature vector $x$ and label $y$. \n",
    "\n",
    "*Currently, the GNNExplainer provided by Pytorch-Geometric can only handle networks that are designed for __node classification__ tasks. Other tasks(node regression, graph classifiication, etc.) will result in an error.\n",
    "\n",
    "### Reference Paper\n",
    "[[1]] Yang, Zhilin, William Cohen, and Ruslan Salakhudinov. \"Revisiting semi-supervised learning with graph embeddings.\" International conference on machine learning. 2016.\n"
   ]
  },
  {
   "cell_type": "code",
   "execution_count": 2,
   "metadata": {},
   "outputs": [],
   "source": [
    "#Load the dataset\n",
    "dataset = 'cora'\n",
    "path = os.path.join(os.getcwd(), 'data', 'Planetoid')\n",
    "train_dataset = Planetoid(path, dataset, transform=T.NormalizeFeatures())\n",
    "\n",
    "# Since the dataset is comprised of a single huge graph, we extract that graph by indexing 0.\n",
    "data = train_dataset[0]\n",
    "\n",
    "# Since there is only 1 graph, the train/test split is done by masking regions of the graph. We split the last 500+500 nodes as val and test, and use the rest as the training data.\n",
    "data.train_mask = torch.zeros(data.num_nodes, dtype=torch.bool)\n",
    "data.train_mask[:data.num_nodes - 1000] = 1\n",
    "data.val_mask = None\n",
    "data.test_mask = torch.zeros(data.num_nodes, dtype=torch.bool)\n",
    "data.test_mask[data.num_nodes - 500:] = 1"
   ]
  },
  {
   "cell_type": "markdown",
   "metadata": {},
   "source": [
    "## 2. Network\n",
    "We define a network that is to be trained and explained by GNNExplainer.\n",
    "We construct a simple graph neural network composed of 2 graph convolution layers(Kipf et al.)."
   ]
  },
  {
   "cell_type": "code",
   "execution_count": 3,
   "metadata": {},
   "outputs": [],
   "source": [
    "class Net(torch.nn.Module):\n",
    "    def __init__(self, num_features, dim=16, num_classes=1):\n",
    "        super(Net, self).__init__()\n",
    "        self.conv1 = GCNConv(num_features, dim)\n",
    "        self.conv2 = GCNConv(dim, num_classes)\n",
    "\n",
    "    def forward(self, x, edge_index, data=None):\n",
    "        x = F.relu(self.conv1(x, edge_index))\n",
    "        x = F.dropout(x, training=self.training)\n",
    "        x = self.conv2(x, edge_index)\n",
    "        return F.log_softmax(x, dim=1)"
   ]
  },
  {
   "cell_type": "markdown",
   "metadata": {},
   "source": [
    "## 3. Training\n",
    "\n",
    "Below is a standard Pytorch network training procedure."
   ]
  },
  {
   "cell_type": "code",
   "execution_count": 4,
   "metadata": {
    "tags": []
   },
   "outputs": [],
   "source": [
    "epochs = 200\n",
    "dim = 16\n"
   ]
  },
  {
   "cell_type": "code",
   "execution_count": 5,
   "metadata": {},
   "outputs": [],
   "source": [
    "device = torch.device('cuda' if torch.cuda.is_available() else 'cpu')\n",
    "model = Net(num_features=train_dataset.num_features, dim=dim, num_classes=train_dataset.num_classes).to(device)\n",
    "optimizer = torch.optim.Adam(model.parameters(), lr=0.01, weight_decay=5e-3)"
   ]
  },
  {
   "cell_type": "code",
   "execution_count": 6,
   "metadata": {},
   "outputs": [],
   "source": [
    "def test(model, data):\n",
    "    model.eval()\n",
    "    logits, accs = model(data.x, data.edge_index, data), []\n",
    "    for _, mask in data('train_mask', 'test_mask'):\n",
    "        pred = logits[mask].max(1)[1]\n",
    "        acc = pred.eq(data.y[mask]).sum().item() / mask.sum().item()\n",
    "        accs.append(acc)\n",
    "    return accs"
   ]
  },
  {
   "cell_type": "code",
   "execution_count": 7,
   "metadata": {
    "tags": []
   },
   "outputs": [
    {
     "name": "stderr",
     "output_type": "stream",
     "text": [
      "[Train_loss:1.641416 Train_acc: 0.4268, Test_acc: 0.4400]: 100%|██████████| 200/200 [00:06<00:00, 29.31it/s] \n"
     ]
    }
   ],
   "source": [
    "loss = 999.0\n",
    "train_acc = 0.0\n",
    "test_acc = 0.0\n",
    "\n",
    "t = trange(epochs, desc=\"Stats: \", position=0)\n",
    "\n",
    "for epoch in t:\n",
    "\n",
    "    model.train()\n",
    "    \n",
    "    loss = 0\n",
    "\n",
    "    data = data.to(device)\n",
    "    optimizer.zero_grad()\n",
    "    log_logits = model(data.x, data.edge_index, data)\n",
    "\n",
    "    # Since the data is a single huge graph, training on the training set is done by masking the nodes that are not in the training set.\n",
    "    loss = F.nll_loss(log_logits[data.train_mask], data.y[data.train_mask])\n",
    "    loss.backward()\n",
    "    optimizer.step()\n",
    "\n",
    "    # validate\n",
    "    train_acc, test_acc = test(model, data)\n",
    "    train_loss = loss\n",
    "    \n",
    "    t.set_description('[Train_loss:{:.6f} Train_acc: {:.4f}, Test_acc: {:.4f}]'.format(loss, train_acc, test_acc))"
   ]
  },
  {
   "cell_type": "markdown",
   "metadata": {},
   "source": [
    "# 2. GNNExplainer"
   ]
  },
  {
   "cell_type": "markdown",
   "metadata": {},
   "source": [
    "## 1. Instantiation\n",
    "\n",
    "Now we use GNNExplainer on the network trained above by wrapping the model with the GNNExplainer wrapper class(https://pytorch-geometric.readthedocs.io/en/latest/modules/nn.html?highlight=gnnexplainer#torch_geometric.nn.models.GNNExplainer). With explainer.explain_node() method, we cam fit GNNExplainer to explain a target node. This method must be supplied with a target node index(node_idx) and the graph(x, edge_index). The method then produces a node mask and a feature mask that reveals nodes/features that were important in producing such a prediction.\n",
    "\n"
   ]
  },
  {
   "cell_type": "code",
   "execution_count": 8,
   "metadata": {
    "tags": []
   },
   "outputs": [
    {
     "name": "stderr",
     "output_type": "stream",
     "text": [
      "Explain node 10: 100%|██████████| 200/200 [00:01<00:00, 169.11it/s]\n"
     ]
    }
   ],
   "source": [
    "node_idx = 10\n",
    "x, edge_index = data.x, data.edge_index\n",
    "explainer = GNNExplainer(model, epochs=200)\n",
    "node_feat_mask, edge_mask = explainer.explain_node(node_idx, x, edge_index)\n"
   ]
  },
  {
   "cell_type": "markdown",
   "metadata": {},
   "source": [
    "## 2. Visualization\n",
    "GNNExplainer supports visualization via Matplotlib. you can also supply the function with a threshold value deciding whether to obscure/reveal nodes and edges of certain importance values. The function returns the axes to the Matplotlib plot and a Networkx graph for additional control."
   ]
  },
  {
   "cell_type": "code",
   "execution_count": 9,
   "metadata": {},
   "outputs": [
    {
     "data": {
      "image/png": "[encoded data removed]",
      "text/plain": [
       "<Figure size 640x480 with 1 Axes>"
      ]
     },
     "metadata": {},
     "output_type": "display_data"
    }
   ],
   "source": [
    "ax, G = explainer.visualize_subgraph(node_idx, edge_index, edge_mask, y=data.y)\n",
    "plt.show()\n"
   ]
  }
 ],
 "metadata": {
  "kernelspec": {
   "display_name": "pyg_st",
   "language": "python",
   "name": "python3"
  },
  "language_info": {
   "codemirror_mode": {
    "name": "ipython",
    "version": 3
   },
   "file_extension": ".py",
   "mimetype": "text/x-python",
   "name": "python",
   "nbconvert_exporter": "python",
   "pygments_lexer": "ipython3",
   "version": "3.8.15"
  },
  "orig_nbformat": 2,
  "vscode": {
   "interpreter": {
    "hash": "0411bf48136829c438b5857f234b9b8d0955fe4fc88961747596736e49fa939e"
   }
  }
 },
 "nbformat": 4,
 "nbformat_minor": 2
}
